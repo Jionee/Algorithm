{
 "cells": [
  {
   "cell_type": "code",
   "execution_count": 2,
   "metadata": {},
   "outputs": [
    {
     "name": "stdout",
     "output_type": "stream",
     "text": [
      "5\n",
      "2 3 1 6 5 4\n",
      "3 1 2 4 6 5\n",
      "5 6 4 1 3 2\n",
      "1 3 6 2 4 5\n",
      "4 1 6 5 2 3\n"
     ]
    }
   ],
   "source": [
    "import sys\n",
    "sys.setrecursionlimit(100000)\n",
    "\n",
    "num = int(sys.stdin.readline())\n",
    "\n",
    "dice_list = []\n",
    "for _ in range(num):\n",
    "    dice_list.append(list(map(int,sys.stdin.readline().split())))"
   ]
  },
  {
   "cell_type": "code",
   "execution_count": 21,
   "metadata": {},
   "outputs": [
    {
     "name": "stdout",
     "output_type": "stream",
     "text": [
      "=== 0 2 ===\n",
      "28 0\n",
      "=== 1 3 ===\n",
      "28 28\n",
      "=== 2 1 ===\n",
      "28 28\n",
      "=== 3 6 ===\n",
      "29 28\n",
      "=== 4 5 ===\n",
      "29 29\n",
      "=== 5 4 ===\n",
      "28 29\n",
      "29\n"
     ]
    }
   ],
   "source": [
    "role = {0:5, 1:3, 2:4, 5:0, 3:1, 4:2}\n",
    "\n",
    "def findMax(dice_index,dice_down):\n",
    "    dice_up = role.get(dice_list[dice_index].index(dice_down))\n",
    "    dice_up = dice_list[dice_index][dice_up]\n",
    "    #print(\"down : \",dice_down,\"up : \",dice_up)\n",
    "    ddd = [1,2,3,4,5,6]\n",
    "    ddd.remove(dice_down)\n",
    "    ddd.remove(dice_up)\n",
    "    return max(ddd),dice_up\n",
    "\n",
    "result = 0\n",
    "for i in range(0,6): #주사위 1번 맨 밑면 1~6\n",
    "    t_result = 0\n",
    "    #1번 밑면 , 1번 윗면\n",
    "    next_dice_down = dice_list[0][i]\n",
    "    #print(\"===\",i,next_dice_down,\"===\")\n",
    "    for k in range(0,num):\n",
    "        m,next_dice_down = findMax(k,next_dice_down)\n",
    "        t_result += m\n",
    "    print(t_result, result)\n",
    "    if(result < t_result):\n",
    "        result = t_result\n",
    "print(result)\n",
    "    \n"
   ]
  },
  {
   "cell_type": "markdown",
   "metadata": {},
   "source": [
    "시간 초과 코드"
   ]
  },
  {
   "cell_type": "code",
   "execution_count": 3,
   "metadata": {},
   "outputs": [
    {
     "name": "stdout",
     "output_type": "stream",
     "text": [
      "[[2, 4, 3, 6, 1, 5], [3, 5, 1, 4, 2, 6], [5, 2, 6, 1, 4, 3], [1, 5, 3, 2, 6, 4], [4, 3, 1, 5, 6, 2]]\n",
      "=== 1 ===\n",
      "[2, 4, 3, 6, 1, 5] bottom :  1  up :  5\n",
      "[3, 5, 1, 4, 2, 6] bottom :  5  up :  3\n",
      "[5, 2, 6, 1, 4, 3] bottom :  3  up :  4\n",
      "[1, 5, 3, 2, 6, 4] bottom :  4  up :  6\n",
      "[4, 3, 1, 5, 6, 2] bottom :  6  up :  2\n",
      "최대들 :  [6, 6, 6, 5, 5]\n",
      "result :  28\n",
      "=== 2 ===\n",
      "[2, 4, 3, 6, 1, 5] bottom :  2  up :  4\n",
      "[3, 5, 1, 4, 2, 6] bottom :  4  up :  1\n",
      "[5, 2, 6, 1, 4, 3] bottom :  1  up :  6\n",
      "[1, 5, 3, 2, 6, 4] bottom :  6  up :  4\n",
      "[4, 3, 1, 5, 6, 2] bottom :  4  up :  3\n",
      "최대들 :  [6, 6, 5, 5, 6]\n",
      "result :  28\n",
      "=== 3 ===\n",
      "[2, 4, 3, 6, 1, 5] bottom :  3  up :  6\n",
      "[3, 5, 1, 4, 2, 6] bottom :  6  up :  2\n",
      "[5, 2, 6, 1, 4, 3] bottom :  2  up :  5\n",
      "[1, 5, 3, 2, 6, 4] bottom :  5  up :  1\n",
      "[4, 3, 1, 5, 6, 2] bottom :  1  up :  5\n",
      "최대들 :  [5, 5, 6, 6, 6]\n",
      "result :  28\n",
      "=== 4 ===\n",
      "[2, 4, 3, 6, 1, 5] bottom :  4  up :  2\n",
      "[3, 5, 1, 4, 2, 6] bottom :  2  up :  6\n",
      "[5, 2, 6, 1, 4, 3] bottom :  6  up :  1\n",
      "[1, 5, 3, 2, 6, 4] bottom :  1  up :  5\n",
      "[4, 3, 1, 5, 6, 2] bottom :  5  up :  1\n",
      "최대들 :  [6, 5, 5, 6, 6]\n",
      "result :  28\n",
      "=== 5 ===\n",
      "[2, 4, 3, 6, 1, 5] bottom :  5  up :  1\n",
      "[3, 5, 1, 4, 2, 6] bottom :  1  up :  4\n",
      "[5, 2, 6, 1, 4, 3] bottom :  4  up :  3\n",
      "[1, 5, 3, 2, 6, 4] bottom :  3  up :  2\n",
      "[4, 3, 1, 5, 6, 2] bottom :  2  up :  6\n",
      "최대들 :  [6, 6, 6, 6, 5]\n",
      "result :  29\n",
      "=== 6 ===\n",
      "[2, 4, 3, 6, 1, 5] bottom :  6  up :  3\n",
      "[3, 5, 1, 4, 2, 6] bottom :  3  up :  5\n",
      "[5, 2, 6, 1, 4, 3] bottom :  5  up :  2\n",
      "[1, 5, 3, 2, 6, 4] bottom :  2  up :  3\n",
      "[4, 3, 1, 5, 6, 2] bottom :  3  up :  4\n",
      "최대들 :  [5, 6, 6, 6, 6]\n",
      "result :  29\n",
      "29\n"
     ]
    }
   ],
   "source": [
    "#1.밑면을 뭐로 할 것인가 (경우의 수 6개 다 돌리기)\n",
    "#2.위아래 잘 맞추기\n",
    "#3.옆면 구해서 최대 구하기 (4개 남은 것 중에서 최대 인 것 선택)\n",
    "\n",
    "\n",
    "#일괄적으로 면 조정하기\n",
    "new_dice = []\n",
    "for i in range(num):\n",
    "    dice = []\n",
    "    dice.append(dice_list[i][0])\n",
    "    dice.append(dice_list[i][5])\n",
    "    dice.append(dice_list[i][1])\n",
    "    dice.append(dice_list[i][3])\n",
    "    dice.append(dice_list[i][2])\n",
    "    dice.append(dice_list[i][4])\n",
    "    new_dice.append(dice)\n",
    "print(new_dice)\n",
    "\n",
    "def up(new_dice,bottom):\n",
    "    b_index = new_dice.index(bottom)\n",
    "    if(b_index%2==0): #0,2,4\n",
    "        u_index = b_index+1\n",
    "    else : #1,3,5\n",
    "        u_index = b_index-1\n",
    "        \n",
    "    up = new_dice[u_index]\n",
    "    print(new_dice,\"bottom : \",bottom,\" up : \",up)\n",
    "    return up\n",
    "\n",
    "def maxDice(bottom,up):\n",
    "    num = [1,2,3,4,5,6]\n",
    "    num.remove(bottom)\n",
    "    num.remove(up)\n",
    "    return max(num)\n",
    "\n",
    "result = 0\n",
    "\n",
    "#1번주사위\n",
    "#맨 밑면 경우의 수 1~6\n",
    "for i in range(1,7):\n",
    "    #맨 밑면이 i일 때\n",
    "    print(\"===\",i,\"===\")\n",
    "    result_list = []\n",
    "    up1 = up(new_dice[0],i) #1번\n",
    "    result_list.append(maxDice(i,up1)) \n",
    "    up2 = up(new_dice[1],up1) #2번\n",
    "    result_list.append(maxDice(up1,up2))\n",
    "    up3 = up(new_dice[2],up2) #3번\n",
    "    result_list.append(maxDice(up2,up3))\n",
    "    up4 = up(new_dice[3],up3) #4번\n",
    "    result_list.append(maxDice(up3,up4))\n",
    "    up5 = up(new_dice[4],up4) #5번\n",
    "    result_list.append(maxDice(up4,up5))\n",
    "    \n",
    "    if(sum(result_list) >= result):\n",
    "        result = sum(result_list)\n",
    "    print(\"최대들 : \",result_list)\n",
    "    print(\"result : \",result)\n",
    "print(result)"
   ]
  }
 ],
 "metadata": {
  "kernelspec": {
   "display_name": "Python 3",
   "language": "python",
   "name": "python3"
  },
  "language_info": {
   "codemirror_mode": {
    "name": "ipython",
    "version": 3
   },
   "file_extension": ".py",
   "mimetype": "text/x-python",
   "name": "python",
   "nbconvert_exporter": "python",
   "pygments_lexer": "ipython3",
   "version": "3.8.3"
  }
 },
 "nbformat": 4,
 "nbformat_minor": 4
}
