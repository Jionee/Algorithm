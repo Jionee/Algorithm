{
 "cells": [
  {
   "cell_type": "code",
   "execution_count": 1,
   "metadata": {},
   "outputs": [
    {
     "name": "stdout",
     "output_type": "stream",
     "text": [
      "2\n",
      "5\n",
      "3 2\n",
      "1 4\n",
      "4 1\n",
      "2 3\n",
      "5 5\n",
      "7\n",
      "3 6\n",
      "7 3\n",
      "4 2\n",
      "1 4\n",
      "5 7\n",
      "2 5\n",
      "6 1\n",
      "[[[3, 2], [1, 4], [4, 1], [2, 3], [5, 5]], [[3, 6], [7, 3], [4, 2], [1, 4], [5, 7], [2, 5], [6, 1]]]\n"
     ]
    }
   ],
   "source": [
    "import sys\n",
    "test_num = int(input())\n",
    "\n",
    "p_list = []\n",
    "for i in range(test_num):\n",
    "    num = int(input())\n",
    "    mp_list = [list(map(int,sys.stdin.readline().strip().split())) for _ in range(num)]\n",
    "    p_list.append(mp_list)\n",
    "#print(p_list)"
   ]
  },
  {
   "cell_type": "code",
   "execution_count": 30,
   "metadata": {},
   "outputs": [
    {
     "name": "stdout",
     "output_type": "stream",
     "text": [
      "[[1, 4], [2, 3], [3, 2], [4, 1], [5, 5]]\n",
      "min :  4   0 번째 : 4\n",
      "min :  4   1 번째 : 3\n",
      "min :  3   2 번째 : 2\n",
      "min :  2   3 번째 : 1\n",
      "min :  1   4 번째 : 5\n",
      "4\n",
      "[[1, 4], [2, 5], [3, 6], [4, 2], [5, 7], [6, 1], [7, 3]]\n",
      "min :  4   0 번째 : 4\n",
      "min :  4   1 번째 : 5\n",
      "min :  4   2 번째 : 6\n",
      "min :  4   3 번째 : 2\n",
      "min :  2   4 번째 : 7\n",
      "min :  2   5 번째 : 1\n",
      "min :  1   6 번째 : 3\n",
      "3\n"
     ]
    }
   ],
   "source": [
    "#먼저 sorting한 후, index2 비교하면서 다음것보다 작으면 바로 탈락\n",
    "#서류 심사 성적이 더 높은 경우 면접 시험 성적은 고려할 필요 없음\n",
    "for i in range(test_num):\n",
    "    res = len(p_list[i])\n",
    "    p_list[i].sort()\n",
    "    print(p_list[i])\n",
    "    \n",
    "    cnt = 1\n",
    "    min = p_list[i][0][1] \n",
    "    \n",
    "    for k in range(len(p_list[i])):\n",
    "        print(\"min : \",min,\" \",k,\"번째 :\", p_list[i][k][1])\n",
    "        if p_list[i][k][1] < min:\n",
    "            min = p_list[i][k][1]\n",
    "            cnt += 1\n",
    "    print(cnt)\n",
    "    \n",
    "#     for k in range(len(p_list[i])):\n",
    "#         for j in range(k,len(p_list[i])):\n",
    "#             if k==j:\n",
    "#                 continue\n",
    "#             if p_list[i][k][1] > p_list[i][j][1]: #하나라도 작으면 -1\n",
    "#                 res = res - 1\n",
    "#                 print(p_list[i][k],p_list[i][j],\"res : \",res)\n",
    "#                 break\n",
    "#     print(res)"
   ]
  }
 ],
 "metadata": {
  "kernelspec": {
   "display_name": "Python 3",
   "language": "python",
   "name": "python3"
  },
  "language_info": {
   "codemirror_mode": {
    "name": "ipython",
    "version": 3
   },
   "file_extension": ".py",
   "mimetype": "text/x-python",
   "name": "python",
   "nbconvert_exporter": "python",
   "pygments_lexer": "ipython3",
   "version": "3.8.3"
  }
 },
 "nbformat": 4,
 "nbformat_minor": 4
}
