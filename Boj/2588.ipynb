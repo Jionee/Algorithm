{
 "cells": [
  {
   "cell_type": "code",
   "execution_count": 15,
   "metadata": {},
   "outputs": [
    {
     "name": "stdout",
     "output_type": "stream",
     "text": [
      "85\n",
      "1155\n",
      "14630\n",
      "148225\n"
     ]
    }
   ],
   "source": [
    "a = int(input())\n",
    "b = int(input())\n",
    "\n",
    "temp = b\n",
    "for x in range(3):\n",
    "    print( (temp % 10) * a ) # temp를 10으로 나눈 나머지 값은 무엇을 의미하는가? 일의 자리를 의미함\n",
    "    temp = temp // 10  # temp값을 10으로 나눈 몫을 temp에 넣는다 -> 새 temp 값으로 (temp % 10)*a) 계산하여 출력\n",
    "                       # 작업을 3회까지 반복, range(3)이니까\n",
    "\n",
    "print(a * b) # 최종답안 a x b 를 출력한다"
   ]
  }
 ],
 "metadata": {
  "kernelspec": {
   "display_name": "Python 3",
   "language": "python",
   "name": "python3"
  },
  "language_info": {
   "codemirror_mode": {
    "name": "ipython",
    "version": 3
   },
   "file_extension": ".py",
   "mimetype": "text/x-python",
   "name": "python",
   "nbconvert_exporter": "python",
   "pygments_lexer": "ipython3",
   "version": "3.8.3"
  }
 },
 "nbformat": 4,
 "nbformat_minor": 4
}
