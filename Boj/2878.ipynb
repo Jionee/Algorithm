{
 "cells": [
  {
   "cell_type": "code",
   "execution_count": 4,
   "metadata": {},
   "outputs": [
    {
     "name": "stdout",
     "output_type": "stream",
     "text": [
      "5 3\n",
      "1\n",
      "3\n",
      "2\n",
      "[1, 3, 2]\n"
     ]
    }
   ],
   "source": [
    "import sys\n",
    "m,n = map(int,input().split())\n",
    "candy = [int(input()) for _ in range(n)]\n",
    "print(candy)"
   ]
  },
  {
   "cell_type": "code",
   "execution_count": 12,
   "metadata": {},
   "outputs": [
    {
     "name": "stdout",
     "output_type": "stream",
     "text": [
      "1\n"
     ]
    }
   ],
   "source": [
    "#m개의 사탕, n명의 친구들\n",
    "#분노를 최소화하기\n",
    "\n",
    "#제곱을 최소화하려면? 0 1 4 9 16 ... -> 일단 못 받는 사탕의 수를 최소화\n",
    "#제일 많이 받고 싶어하는 애한테 먼저 다 나눠주기\n",
    "# (5 0 0) \n",
    "# (4 1 0)\n",
    "# (3 2 0)\n",
    "# (2 1 1)\n",
    "\n",
    "import math\n",
    "\n",
    "angry = 0\n",
    "candy.sort(reverse=True)\n",
    "\n",
    "for i in range(len(candy)):\n",
    "    if m > candy[i]:\n",
    "        m = m-candy[i]\n",
    "    elif m == candy[i]:\n",
    "        break\n",
    "    else:\n",
    "        angry += int(math.pow(candy[i]-m,2))\n",
    "print(angry)\n"
   ]
  },
  {
   "cell_type": "code",
   "execution_count": null,
   "metadata": {},
   "outputs": [],
   "source": []
  }
 ],
 "metadata": {
  "kernelspec": {
   "display_name": "Python 3",
   "language": "python",
   "name": "python3"
  },
  "language_info": {
   "codemirror_mode": {
    "name": "ipython",
    "version": 3
   },
   "file_extension": ".py",
   "mimetype": "text/x-python",
   "name": "python",
   "nbconvert_exporter": "python",
   "pygments_lexer": "ipython3",
   "version": "3.8.3"
  }
 },
 "nbformat": 4,
 "nbformat_minor": 4
}
