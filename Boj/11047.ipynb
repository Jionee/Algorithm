{
 "cells": [
  {
   "cell_type": "code",
   "execution_count": 22,
   "metadata": {},
   "outputs": [
    {
     "name": "stdout",
     "output_type": "stream",
     "text": [
      "10 4790\n",
      "1\n",
      "5\n",
      "10\n",
      "50\n",
      "100\n",
      "500\n",
      "1000\n",
      "5000\n",
      "10000\n",
      "50000\n",
      "[1, 5, 10, 50, 100, 500, 1000, 5000, 10000, 50000]\n"
     ]
    }
   ],
   "source": [
    "num,k = map(int,input().split())\n",
    "# dice =[list(map(int,input().split())) for _ in range(num_dice)]\n",
    "coin = [int(input()) for _ in range(num)]\n",
    "print(coin)"
   ]
  },
  {
   "cell_type": "code",
   "execution_count": 23,
   "metadata": {},
   "outputs": [
    {
     "name": "stdout",
     "output_type": "stream",
     "text": [
      "[1, 5, 10, 50, 100, 500, 1000, 5000, 10000, 50000] 4790\n",
      "count :  12\n"
     ]
    }
   ],
   "source": [
    "#합을 k로 만들어야 하는데 필요한 동전 개수의 최솟값\n",
    "#print(coin,k)\n",
    "count = 0\n",
    "for c in reversed(coin):\n",
    "    if(k//c<=0):\n",
    "        continue\n",
    "    else :\n",
    "        count = count + k//c\n",
    "        k = k%c\n",
    "print(count)"
   ]
  }
 ],
 "metadata": {
  "kernelspec": {
   "display_name": "Python 3",
   "language": "python",
   "name": "python3"
  },
  "language_info": {
   "codemirror_mode": {
    "name": "ipython",
    "version": 3
   },
   "file_extension": ".py",
   "mimetype": "text/x-python",
   "name": "python",
   "nbconvert_exporter": "python",
   "pygments_lexer": "ipython3",
   "version": "3.8.3"
  }
 },
 "nbformat": 4,
 "nbformat_minor": 4
}
