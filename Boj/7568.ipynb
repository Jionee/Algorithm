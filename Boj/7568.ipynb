{
 "cells": [
  {
   "cell_type": "code",
   "execution_count": 25,
   "metadata": {},
   "outputs": [
    {
     "name": "stdout",
     "output_type": "stream",
     "text": [
      "5\n",
      "55 185\n",
      "58 183\n",
      "88 186\n",
      "60 175\n",
      "46 155\n",
      "[(55, 185), (58, 183), (88, 186), (60, 175), (46, 155)]\n",
      "5\n",
      "58\n",
      "2 2 1 2 5\n"
     ]
    }
   ],
   "source": [
    "num_student = int(input())\n",
    "student_list = []\n",
    "\n",
    "#input 입력 받기\n",
    "for _ in range(num_student):\n",
    "    weight, height = map(int, input().split())\n",
    "    student_list.append((weight, height))\n",
    "\n",
    "rank = []\n",
    "for i in range(len(student_list)):\n",
    "    num = 1\n",
    "    #첫번째 애에 대해서 나머지 다섯 명 모두 비교\n",
    "    for j in range(len(student_list)):\n",
    "        if(i==j) : continue\n",
    "        \n",
    "        if(student_list[i][0] < student_list[j][0] and student_list[i][1] < student_list[j][1]):\n",
    "            num = num+1\n",
    "    rank.append(num)\n",
    "\n",
    "print(' '.join(map(str,rank)))\n"
   ]
  }
 ],
 "metadata": {
  "kernelspec": {
   "display_name": "Python 3",
   "language": "python",
   "name": "python3"
  },
  "language_info": {
   "codemirror_mode": {
    "name": "ipython",
    "version": 3
   },
   "file_extension": ".py",
   "mimetype": "text/x-python",
   "name": "python",
   "nbconvert_exporter": "python",
   "pygments_lexer": "ipython3",
   "version": "3.8.3"
  }
 },
 "nbformat": 4,
 "nbformat_minor": 4
}
